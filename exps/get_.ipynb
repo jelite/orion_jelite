{
 "cells": [
  {
   "cell_type": "code",
   "execution_count": 24,
   "metadata": {},
   "outputs": [],
   "source": [
    "import glob\n",
    "import pandas as pd\n",
    "import numpy as np\n",
    "from argparse import ArgumentParser\n",
    "\n",
    "# argparser = ArgumentParser()\n",
    "# argparser.add_argument(\"--dir\", type=str)\n",
    "# argparser.add_argument(\"--tile\", type=int)\n",
    "\n",
    "# args = argparser.parse_args()\n",
    "\n",
    "dir = \"01\"\n",
    "tile= 95\n",
    "data_list = pd.DataFrame({\"file\", \"tile\"})\n",
    "\n",
    "\n",
    "for f in glob.glob(f\"./be_infer/A_{dir}/*.txt\"):\n",
    "\n",
    "    infer = f.split(\"x\")[1]\n",
    "    infer = infer.split(\"_\")[0]\n",
    "\n",
    "    data = pd.read_csv(f, sep=\",\", header=None, names=[\"dur\", \"num\"])\n",
    "\n",
    "    t_tile = np.percentile(data, tile, method=\"nearest\")\n",
    "    \n",
    "    data_list[\"file\"] = f\n",
    "    data_list[\"tile\"] = t_tile\n"
   ]
  },
  {
   "cell_type": "code",
   "execution_count": 25,
   "metadata": {},
   "outputs": [
    {
     "data": {
      "text/html": [
       "<div>\n",
       "<style scoped>\n",
       "    .dataframe tbody tr th:only-of-type {\n",
       "        vertical-align: middle;\n",
       "    }\n",
       "\n",
       "    .dataframe tbody tr th {\n",
       "        vertical-align: top;\n",
       "    }\n",
       "\n",
       "    .dataframe thead th {\n",
       "        text-align: right;\n",
       "    }\n",
       "</style>\n",
       "<table border=\"1\" class=\"dataframe\">\n",
       "  <thead>\n",
       "    <tr style=\"text-align: right;\">\n",
       "      <th></th>\n",
       "      <th>0</th>\n",
       "      <th>file</th>\n",
       "      <th>tile</th>\n",
       "    </tr>\n",
       "  </thead>\n",
       "  <tbody>\n",
       "    <tr>\n",
       "      <th>0</th>\n",
       "      <td>file</td>\n",
       "      <td>./be_infer/A_01/resnet50xdensenet121_62.15_50m...</td>\n",
       "      <td>852.793932</td>\n",
       "    </tr>\n",
       "    <tr>\n",
       "      <th>1</th>\n",
       "      <td>tile</td>\n",
       "      <td>./be_infer/A_01/resnet50xdensenet121_62.15_50m...</td>\n",
       "      <td>852.793932</td>\n",
       "    </tr>\n",
       "  </tbody>\n",
       "</table>\n",
       "</div>"
      ],
      "text/plain": [
       "      0                                               file        tile\n",
       "0  file  ./be_infer/A_01/resnet50xdensenet121_62.15_50m...  852.793932\n",
       "1  tile  ./be_infer/A_01/resnet50xdensenet121_62.15_50m...  852.793932"
      ]
     },
     "execution_count": 25,
     "metadata": {},
     "output_type": "execute_result"
    }
   ],
   "source": [
    "data_list"
   ]
  },
  {
   "cell_type": "code",
   "execution_count": null,
   "metadata": {},
   "outputs": [],
   "source": []
  }
 ],
 "metadata": {
  "kernelspec": {
   "display_name": "Python 3",
   "language": "python",
   "name": "python3"
  },
  "language_info": {
   "codemirror_mode": {
    "name": "ipython",
    "version": 3
   },
   "file_extension": ".py",
   "mimetype": "text/x-python",
   "name": "python",
   "nbconvert_exporter": "python",
   "pygments_lexer": "ipython3",
   "version": "3.8.0"
  }
 },
 "nbformat": 4,
 "nbformat_minor": 2
}
